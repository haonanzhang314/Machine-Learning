{
  "nbformat": 4,
  "nbformat_minor": 5,
  "metadata": {
    "kernelspec": {
      "display_name": "Python 3",
      "language": "python",
      "name": "python3"
    },
    "language_info": {
      "codemirror_mode": {
        "name": "ipython",
        "version": 3
      },
      "file_extension": ".py",
      "mimetype": "text/x-python",
      "name": "python",
      "nbconvert_exporter": "python",
      "pygments_lexer": "ipython3",
      "version": "3.8.8"
    },
    "colab": {
      "name": "matplotlib笔记.ipynb",
      "provenance": [],
      "collapsed_sections": [
        "40232c48",
        "33c28ca2"
      ],
      "include_colab_link": true
    }
  },
  "cells": [
    {
      "cell_type": "markdown",
      "metadata": {
        "id": "view-in-github",
        "colab_type": "text"
      },
      "source": [
        "<a href=\"https://colab.research.google.com/github/haonanzhang314/Machine-Learning/blob/master/matplotlib%E7%AC%94%E8%AE%B0.ipynb\" target=\"_parent\"><img src=\"https://colab.research.google.com/assets/colab-badge.svg\" alt=\"Open In Colab\"/></a>"
      ]
    },
    {
      "cell_type": "markdown",
      "metadata": {
        "id": "0b56aadd"
      },
      "source": [
        "# python简单入门"
      ],
      "id": "0b56aadd"
    },
    {
      "cell_type": "markdown",
      "metadata": {
        "id": "0c9951a3"
      },
      "source": [
        "## 1.1python数字"
      ],
      "id": "0c9951a3"
    },
    {
      "cell_type": "markdown",
      "metadata": {
        "id": "ee7a2a4a"
      },
      "source": [
        "### 1.1.1python random（）函数"
      ],
      "id": "ee7a2a4a"
    },
    {
      "cell_type": "code",
      "metadata": {
        "id": "7e95afe5",
        "outputId": "3c2d3798-ffab-47c1-ad56-a438a1f62a18"
      },
      "source": [
        "# 调用randome\n",
        "import random\n",
        "# random.random()作用生成随机数字\n",
        "print(random.random())"
      ],
      "id": "7e95afe5",
      "execution_count": null,
      "outputs": [
        {
          "name": "stdout",
          "output_type": "stream",
          "text": [
            "0.7188227186741508\n"
          ]
        }
      ]
    },
    {
      "cell_type": "markdown",
      "metadata": {
        "id": "29b18116"
      },
      "source": [
        "### 1.1.2python seed()函数"
      ],
      "id": "29b18116"
    },
    {
      "cell_type": "code",
      "metadata": {
        "id": "e392f3b7",
        "outputId": "e1795c6e-e0ad-4f77-8c8a-b4131d65c170"
      },
      "source": [
        "# seed 创建一组特定的随机数数列，可以实现随机数的复现，即不同人在不同时间同一个seed，生成的随机数字完全一致\n",
        "# 调用random\n",
        "import random\n",
        "# random.seed()生成随机数字\n",
        "random.seed(1)\n",
        "print(random.random())\n",
        "random.seed(2)\n",
        "print(random.random())\n",
        "random.seed(1)\n",
        "print(random.random())"
      ],
      "id": "e392f3b7",
      "execution_count": null,
      "outputs": [
        {
          "name": "stdout",
          "output_type": "stream",
          "text": [
            "0.13436424411240122\n",
            "0.9560342718892494\n",
            "0.13436424411240122\n"
          ]
        }
      ]
    },
    {
      "cell_type": "markdown",
      "metadata": {
        "id": "d416d937"
      },
      "source": [
        "## 1.2python列表、元组、字典"
      ],
      "id": "d416d937"
    },
    {
      "cell_type": "markdown",
      "metadata": {
        "id": "d066c7ee"
      },
      "source": [
        "### 1.2.1python 列表 "
      ],
      "id": "d066c7ee"
    },
    {
      "cell_type": "code",
      "metadata": {
        "id": "5b224b33",
        "outputId": "334b0c9f-b39b-4243-b94d-af50978b5bb4"
      },
      "source": [
        "# list列表使用方括号【】将内容包裹起来\n",
        "list=[\"physics\",\"chemistry\",2019,2002]\n",
        "print(list[0])\n",
        "print(list[1:3])"
      ],
      "id": "5b224b33",
      "execution_count": null,
      "outputs": [
        {
          "name": "stdout",
          "output_type": "stream",
          "text": [
            "physics\n",
            "['chemistry', 2019]\n"
          ]
        }
      ]
    },
    {
      "cell_type": "markdown",
      "metadata": {
        "id": "d97d58d7"
      },
      "source": [
        "#### 增、删、查操作"
      ],
      "id": "d97d58d7"
    },
    {
      "cell_type": "code",
      "metadata": {
        "id": "c319d7b6",
        "outputId": "4d8a9022-4a6d-4023-dc6d-85f22265c2b5"
      },
      "source": [
        "list=[1,2,3,4,5,6]\n",
        "# 在列表末尾添加了one\n",
        "list.append(\"one\")\n",
        "print(list)"
      ],
      "id": "c319d7b6",
      "execution_count": null,
      "outputs": [
        {
          "name": "stdout",
          "output_type": "stream",
          "text": [
            "[1, 2, 3, 4, 5, 6, 'one']\n"
          ]
        }
      ]
    },
    {
      "cell_type": "code",
      "metadata": {
        "id": "f0bb75b0",
        "outputId": "bd553953-9536-4f77-8fbf-d32f9b5a22f2"
      },
      "source": [
        "list=[1,2,3,4,5,6]\n",
        "# 在列表中删除0位上的内容,如果想要删除整个列表则del list后面不给数字即可\n",
        "del list[0]  \n",
        "print(list)"
      ],
      "id": "f0bb75b0",
      "execution_count": null,
      "outputs": [
        {
          "name": "stdout",
          "output_type": "stream",
          "text": [
            "[2, 3, 4, 5, 6]\n"
          ]
        }
      ]
    },
    {
      "cell_type": "code",
      "metadata": {
        "id": "04a514d1",
        "outputId": "66a7b07f-0fcd-4c9d-c0ed-a6137c7f1d3a"
      },
      "source": [
        "list=[1,2,3,4,5,6]\n",
        "# 查询操作即打印全部内容\n",
        "print(list)"
      ],
      "id": "04a514d1",
      "execution_count": null,
      "outputs": [
        {
          "name": "stdout",
          "output_type": "stream",
          "text": [
            "[1, 2, 3, 4, 5, 6]\n"
          ]
        }
      ]
    },
    {
      "cell_type": "markdown",
      "metadata": {
        "id": "f97105ce"
      },
      "source": [
        "### 1.2.2python元组"
      ],
      "id": "f97105ce"
    },
    {
      "cell_type": "markdown",
      "metadata": {
        "id": "f93a107f"
      },
      "source": [
        "##### python元组和列表很相似区别在于元组的元素不能修改\n",
        "元组使用小括号"
      ],
      "id": "f93a107f"
    },
    {
      "cell_type": "code",
      "metadata": {
        "id": "c12a8a87",
        "outputId": "75d4d759-79d8-4ea2-8ec6-4b8d47328895"
      },
      "source": [
        "tup=(1,2,3,4,5)\n",
        "print(tup[1])\n",
        "print(tup)"
      ],
      "id": "c12a8a87",
      "execution_count": null,
      "outputs": [
        {
          "name": "stdout",
          "output_type": "stream",
          "text": [
            "2\n",
            "(1, 2, 3, 4, 5)\n"
          ]
        }
      ]
    },
    {
      "cell_type": "markdown",
      "metadata": {
        "id": "c7b708bd"
      },
      "source": [
        "### 1.2.3python字典"
      ],
      "id": "c7b708bd"
    },
    {
      "cell_type": "markdown",
      "metadata": {
        "id": "fa57657c"
      },
      "source": [
        "##### 字典是另一种可变容器模型，且可以储存任意类型对象\n",
        "字典的每个键值key=>value对用冒号：分割，每个键值对之间用逗号，分割 整个字典包含在花括号{}中，格式如下所示：\n",
        "d={key1:value1,key2:value2,key3:value3}"
      ],
      "id": "fa57657c"
    },
    {
      "cell_type": "code",
      "metadata": {
        "id": "567e4441",
        "outputId": "4cae2b2a-53ac-46cd-b808-1f9495d5f640"
      },
      "source": [
        "dict ={'a':1,'b':2,'c':3}\n",
        "print(dict)\n",
        "print(dict['a'])"
      ],
      "id": "567e4441",
      "execution_count": null,
      "outputs": [
        {
          "name": "stdout",
          "output_type": "stream",
          "text": [
            "{'a': 1, 'b': 2, 'c': 3}\n",
            "1\n"
          ]
        }
      ]
    },
    {
      "cell_type": "markdown",
      "metadata": {
        "id": "40232c48"
      },
      "source": [
        "#### 增、删、改、查操作"
      ],
      "id": "40232c48"
    },
    {
      "cell_type": "code",
      "metadata": {
        "id": "f7e8bd4e",
        "outputId": "67f51580-44a1-4f8d-f4ce-cbfaa1793356"
      },
      "source": [
        "dict={'a':1,'b':2,'c':3,'d':4}\n",
        "print(dict)\n",
        "# 增加操作\n",
        "dict['e']=5\n",
        "print(dict)"
      ],
      "id": "f7e8bd4e",
      "execution_count": null,
      "outputs": [
        {
          "name": "stdout",
          "output_type": "stream",
          "text": [
            "{'a': 1, 'b': 2, 'c': 3, 'd': 4}\n",
            "{'a': 1, 'b': 2, 'c': 3, 'd': 4, 'e': 5}\n"
          ]
        }
      ]
    },
    {
      "cell_type": "code",
      "metadata": {
        "id": "639a2a8f",
        "outputId": "09bb6958-26b6-431c-ff7d-6fe068a25181"
      },
      "source": [
        "dict={'a':1,'b':2,'c':3,'d':4}\n",
        "print(dict)\n",
        "# 删除操作,删除字典的操作为del dict\n",
        "del dict['a']\n",
        "print(dict)"
      ],
      "id": "639a2a8f",
      "execution_count": null,
      "outputs": [
        {
          "name": "stdout",
          "output_type": "stream",
          "text": [
            "{'a': 1, 'b': 2, 'c': 3, 'd': 4}\n",
            "{'b': 2, 'c': 3, 'd': 4}\n"
          ]
        }
      ]
    },
    {
      "cell_type": "code",
      "metadata": {
        "id": "adc55ae3",
        "outputId": "784b2122-6a58-4126-e140-d5fb7c9c3405"
      },
      "source": [
        "dict={'a':1,'b':2,'c':3,'d':4}\n",
        "print(dict)\n",
        "# 修改操作\n",
        "dict['a']=2\n",
        "print(dict)"
      ],
      "id": "adc55ae3",
      "execution_count": null,
      "outputs": [
        {
          "name": "stdout",
          "output_type": "stream",
          "text": [
            "{'a': 1, 'b': 2, 'c': 3, 'd': 4}\n",
            "{'a': 2, 'b': 2, 'c': 3, 'd': 4}\n"
          ]
        }
      ]
    },
    {
      "cell_type": "code",
      "metadata": {
        "id": "68e7606b",
        "outputId": "402679c0-29a6-4b15-dfb8-9395ec4e2cf4"
      },
      "source": [
        "dict={'a':1,'b':2,'c':3,'d':4}\n",
        "# 查询操作\n",
        "print(dict['a'])\n",
        "print(dict['d'])"
      ],
      "id": "68e7606b",
      "execution_count": null,
      "outputs": [
        {
          "name": "stdout",
          "output_type": "stream",
          "text": [
            "1\n",
            "4\n"
          ]
        }
      ]
    },
    {
      "cell_type": "markdown",
      "metadata": {
        "id": "9e6e7cbb"
      },
      "source": [
        "# numpy使用"
      ],
      "id": "9e6e7cbb"
    },
    {
      "cell_type": "code",
      "metadata": {
        "id": "7ce0ba0c",
        "colab": {
          "base_uri": "https://localhost:8080/"
        },
        "outputId": "a6ddd40a-d410-4d4a-ecd4-9efe675c6239"
      },
      "source": [
        "# 初始化numpy\n",
        "import numpy as np\n",
        "# array的意思是数组\n",
        "list01 = np.array([\n",
        "    [1,2,3,4,1,2],\n",
        "    [2,3,5,2,4,7],\n",
        "    [6,2,6,3,2,1]])\n",
        "list01"
      ],
      "id": "7ce0ba0c",
      "execution_count": null,
      "outputs": [
        {
          "output_type": "execute_result",
          "data": {
            "text/plain": [
              "array([[1, 2, 3, 4, 1, 2],\n",
              "       [2, 3, 5, 2, 4, 7],\n",
              "       [6, 2, 6, 3, 2, 1]])"
            ]
          },
          "metadata": {},
          "execution_count": 2
        }
      ]
    },
    {
      "cell_type": "markdown",
      "metadata": {
        "id": "1993bede"
      },
      "source": [
        "## 1.1 np.linspace的用法"
      ],
      "id": "1993bede"
    },
    {
      "cell_type": "markdown",
      "metadata": {
        "id": "a3246222"
      },
      "source": [
        "##### numpy提供的linspace函数是python中创建数值序列的工具。"
      ],
      "id": "a3246222"
    },
    {
      "cell_type": "code",
      "metadata": {
        "id": "4eaef71c",
        "outputId": "13011a18-96cc-4230-b988-798982b3f3db"
      },
      "source": [
        "import numpy as np\n",
        "# 含义创建数列开始为0结束为100，一共创建5个数字\n",
        "np.linspace(start=0,stop=100,num=5)"
      ],
      "id": "4eaef71c",
      "execution_count": null,
      "outputs": [
        {
          "data": {
            "text/plain": [
              "array([  0.,  25.,  50.,  75., 100.])"
            ]
          },
          "execution_count": 20,
          "metadata": {},
          "output_type": "execute_result"
        }
      ]
    },
    {
      "cell_type": "code",
      "metadata": {
        "id": "26104573",
        "outputId": "391d4ad3-df48-4f1f-d14f-7b83e218a5e1"
      },
      "source": [
        "import numpy as np\n",
        "# 含义开始为-1，结束为1，创建100个数字\n",
        "x=np.linspace(-1,1,100)\n",
        "print(x)"
      ],
      "id": "26104573",
      "execution_count": null,
      "outputs": [
        {
          "name": "stdout",
          "output_type": "stream",
          "text": [
            "[-1.         -0.97979798 -0.95959596 -0.93939394 -0.91919192 -0.8989899\n",
            " -0.87878788 -0.85858586 -0.83838384 -0.81818182 -0.7979798  -0.77777778\n",
            " -0.75757576 -0.73737374 -0.71717172 -0.6969697  -0.67676768 -0.65656566\n",
            " -0.63636364 -0.61616162 -0.5959596  -0.57575758 -0.55555556 -0.53535354\n",
            " -0.51515152 -0.49494949 -0.47474747 -0.45454545 -0.43434343 -0.41414141\n",
            " -0.39393939 -0.37373737 -0.35353535 -0.33333333 -0.31313131 -0.29292929\n",
            " -0.27272727 -0.25252525 -0.23232323 -0.21212121 -0.19191919 -0.17171717\n",
            " -0.15151515 -0.13131313 -0.11111111 -0.09090909 -0.07070707 -0.05050505\n",
            " -0.03030303 -0.01010101  0.01010101  0.03030303  0.05050505  0.07070707\n",
            "  0.09090909  0.11111111  0.13131313  0.15151515  0.17171717  0.19191919\n",
            "  0.21212121  0.23232323  0.25252525  0.27272727  0.29292929  0.31313131\n",
            "  0.33333333  0.35353535  0.37373737  0.39393939  0.41414141  0.43434343\n",
            "  0.45454545  0.47474747  0.49494949  0.51515152  0.53535354  0.55555556\n",
            "  0.57575758  0.5959596   0.61616162  0.63636364  0.65656566  0.67676768\n",
            "  0.6969697   0.71717172  0.73737374  0.75757576  0.77777778  0.7979798\n",
            "  0.81818182  0.83838384  0.85858586  0.87878788  0.8989899   0.91919192\n",
            "  0.93939394  0.95959596  0.97979798  1.        ]\n"
          ]
        }
      ]
    },
    {
      "cell_type": "markdown",
      "metadata": {
        "id": "2f045ee8"
      },
      "source": [
        "## 1.2 np.reshape函数的用法"
      ],
      "id": "2f045ee8"
    },
    {
      "cell_type": "code",
      "metadata": {
        "id": "b19bb74e",
        "outputId": "9781eab2-b1fa-4f85-e02e-983b429318b8"
      },
      "source": [
        "import numpy as np\n",
        "# 含义开始为-1，结束为1，创建100个数字\n",
        "# reshape的含义为生成100行一列的矩阵\n",
        "x=np.linspace(-1,1,100).reshape(100,1)\n",
        "print(x)"
      ],
      "id": "b19bb74e",
      "execution_count": null,
      "outputs": [
        {
          "name": "stdout",
          "output_type": "stream",
          "text": [
            "[[-1.        ]\n",
            " [-0.97979798]\n",
            " [-0.95959596]\n",
            " [-0.93939394]\n",
            " [-0.91919192]\n",
            " [-0.8989899 ]\n",
            " [-0.87878788]\n",
            " [-0.85858586]\n",
            " [-0.83838384]\n",
            " [-0.81818182]\n",
            " [-0.7979798 ]\n",
            " [-0.77777778]\n",
            " [-0.75757576]\n",
            " [-0.73737374]\n",
            " [-0.71717172]\n",
            " [-0.6969697 ]\n",
            " [-0.67676768]\n",
            " [-0.65656566]\n",
            " [-0.63636364]\n",
            " [-0.61616162]\n",
            " [-0.5959596 ]\n",
            " [-0.57575758]\n",
            " [-0.55555556]\n",
            " [-0.53535354]\n",
            " [-0.51515152]\n",
            " [-0.49494949]\n",
            " [-0.47474747]\n",
            " [-0.45454545]\n",
            " [-0.43434343]\n",
            " [-0.41414141]\n",
            " [-0.39393939]\n",
            " [-0.37373737]\n",
            " [-0.35353535]\n",
            " [-0.33333333]\n",
            " [-0.31313131]\n",
            " [-0.29292929]\n",
            " [-0.27272727]\n",
            " [-0.25252525]\n",
            " [-0.23232323]\n",
            " [-0.21212121]\n",
            " [-0.19191919]\n",
            " [-0.17171717]\n",
            " [-0.15151515]\n",
            " [-0.13131313]\n",
            " [-0.11111111]\n",
            " [-0.09090909]\n",
            " [-0.07070707]\n",
            " [-0.05050505]\n",
            " [-0.03030303]\n",
            " [-0.01010101]\n",
            " [ 0.01010101]\n",
            " [ 0.03030303]\n",
            " [ 0.05050505]\n",
            " [ 0.07070707]\n",
            " [ 0.09090909]\n",
            " [ 0.11111111]\n",
            " [ 0.13131313]\n",
            " [ 0.15151515]\n",
            " [ 0.17171717]\n",
            " [ 0.19191919]\n",
            " [ 0.21212121]\n",
            " [ 0.23232323]\n",
            " [ 0.25252525]\n",
            " [ 0.27272727]\n",
            " [ 0.29292929]\n",
            " [ 0.31313131]\n",
            " [ 0.33333333]\n",
            " [ 0.35353535]\n",
            " [ 0.37373737]\n",
            " [ 0.39393939]\n",
            " [ 0.41414141]\n",
            " [ 0.43434343]\n",
            " [ 0.45454545]\n",
            " [ 0.47474747]\n",
            " [ 0.49494949]\n",
            " [ 0.51515152]\n",
            " [ 0.53535354]\n",
            " [ 0.55555556]\n",
            " [ 0.57575758]\n",
            " [ 0.5959596 ]\n",
            " [ 0.61616162]\n",
            " [ 0.63636364]\n",
            " [ 0.65656566]\n",
            " [ 0.67676768]\n",
            " [ 0.6969697 ]\n",
            " [ 0.71717172]\n",
            " [ 0.73737374]\n",
            " [ 0.75757576]\n",
            " [ 0.77777778]\n",
            " [ 0.7979798 ]\n",
            " [ 0.81818182]\n",
            " [ 0.83838384]\n",
            " [ 0.85858586]\n",
            " [ 0.87878788]\n",
            " [ 0.8989899 ]\n",
            " [ 0.91919192]\n",
            " [ 0.93939394]\n",
            " [ 0.95959596]\n",
            " [ 0.97979798]\n",
            " [ 1.        ]]\n"
          ]
        }
      ]
    },
    {
      "cell_type": "markdown",
      "metadata": {
        "id": "54edb232"
      },
      "source": [
        "## 1.3 np.power()函数的用法"
      ],
      "id": "54edb232"
    },
    {
      "cell_type": "markdown",
      "metadata": {
        "id": "068c70f3"
      },
      "source": [
        "### np.power()用于数组元素求n次方"
      ],
      "id": "068c70f3"
    },
    {
      "cell_type": "code",
      "metadata": {
        "id": "fe772387",
        "outputId": "17113848-5722-4196-8650-db3815aa4388"
      },
      "source": [
        "import numpy as np\n",
        "# 含义是2的三次方\n",
        "result = np.power(2,3)\n",
        "result"
      ],
      "id": "fe772387",
      "execution_count": null,
      "outputs": [
        {
          "data": {
            "text/plain": [
              "8"
            ]
          },
          "execution_count": 37,
          "metadata": {},
          "output_type": "execute_result"
        }
      ]
    },
    {
      "cell_type": "markdown",
      "metadata": {
        "id": "e26c87d0"
      },
      "source": [
        "## 1.4np.random.rand()"
      ],
      "id": "e26c87d0"
    },
    {
      "cell_type": "markdown",
      "metadata": {
        "id": "33c28ca2"
      },
      "source": [
        "#### rand函数根据给定维度生成[0,1)之间的数据，包含0，不包含1"
      ],
      "id": "33c28ca2"
    },
    {
      "cell_type": "code",
      "metadata": {
        "collapsed": true,
        "id": "3c8c4bf7"
      },
      "source": [
        "np.random.rand()\n",
        "\n",
        "语法：\n",
        "\n",
        "np.random.rand(d0,d1,d2……dn)\n",
        "注：使用方法与np.random.randn()函数相同\n",
        "\n",
        "作用：\n",
        "通过本函数可以返回一个或一组服从“0~1”均匀分布的随机样本值。随机样本取值范围是[0,1)，不包括1。\n",
        "\n",
        "应用：在深度学习的Dropout正则化方法中，可以用于生成dropout随机向量（dl），"
      ],
      "id": "3c8c4bf7",
      "execution_count": null,
      "outputs": []
    },
    {
      "cell_type": "code",
      "metadata": {
        "id": "456f70fe",
        "outputId": "47d8b513-9e24-4dee-bbdf-85358caebef0"
      },
      "source": [
        "import numpy as np\n",
        "np.random.rand(4,2)"
      ],
      "id": "456f70fe",
      "execution_count": null,
      "outputs": [
        {
          "data": {
            "text/plain": [
              "array([[0.40054117, 0.40907716],\n",
              "       [0.06744799, 0.95311883],\n",
              "       [0.96059821, 0.52478649],\n",
              "       [0.71106815, 0.78220723]])"
            ]
          },
          "execution_count": 43,
          "metadata": {},
          "output_type": "execute_result"
        }
      ]
    },
    {
      "cell_type": "code",
      "metadata": {
        "id": "6ebb73cf",
        "outputId": "0e4647e5-3b34-4dc3-f701-09c111be99ae"
      },
      "source": [
        "from numpy import *\n",
        "\n",
        "A = random.rand()\n",
        "print(A)  # 结果 0.9768088319111863\n",
        "B = random.rand(1)\n",
        "print(B)  # 结果 [0.91626593]\n",
        "C = random.rand(2, 2)\n",
        "print(C)  # 结果 [[0.28257911 0.18180098][0.6402906  0.93263527]]\n",
        "D = random.rand(2, 2, 2)\n",
        "print(D)  # 结果[[[0.23309825 0.16705292][0.41399771 0.11429055]][[0.15942861 0.91520886][0.1849959  0.74964994]]]"
      ],
      "id": "6ebb73cf",
      "execution_count": null,
      "outputs": [
        {
          "name": "stdout",
          "output_type": "stream",
          "text": [
            "0.02317813647840361\n",
            "[0.16074455]\n",
            "[[0.92349683 0.95354985]\n",
            " [0.21097842 0.36052525]]\n",
            "[[[0.54937526 0.27183085]\n",
            "  [0.46060162 0.69616156]]\n",
            "\n",
            " [[0.5003559  0.71607099]\n",
            "  [0.52595594 0.00139902]]]\n"
          ]
        }
      ]
    },
    {
      "cell_type": "markdown",
      "metadata": {
        "id": "361e79bc"
      },
      "source": [
        "# 1.图像功能的实现"
      ],
      "id": "361e79bc"
    },
    {
      "cell_type": "markdown",
      "metadata": {
        "id": "743dea5a"
      },
      "source": [
        "## 1.1折线图"
      ],
      "id": "743dea5a"
    },
    {
      "cell_type": "code",
      "metadata": {
        "colab": {
          "base_uri": "https://localhost:8080/",
          "height": 265
        },
        "id": "t0LlfqrACWnm",
        "outputId": "abd3360e-39dd-4fb2-a0cf-5afe6b97472f"
      },
      "source": [
        "import matplotlib.pyplot as plt\n",
        "x = [1,2,3,4,5,6,7,8,9,10]\n",
        "y = [0.300396,0.023347,0.058859,0.021332,0.020462,\n",
        "     0.000924,0.001011,0.019741,0.001917,0.000443]\n",
        "x = [1,2,3,4,5,6,7,8,9,10]\n",
        "y1 = [0.0008,0.0009,0.0005,0.0007,0.0006,\n",
        "      0.0005,0.0007,0.0006,0.0006,0.0007]\n",
        "plt.plot(x,y,x,y1)\n",
        "plt.show()"
      ],
      "id": "t0LlfqrACWnm",
      "execution_count": 9,
      "outputs": [
        {
          "output_type": "display_data",
          "data": {
            "image/png": "[encoded data removed]",
            "text/plain": [
              "<Figure size 432x288 with 1 Axes>"
            ]
          },
          "metadata": {
            "needs_background": "light"
          }
        }
      ]
    },
    {
      "cell_type": "code",
      "metadata": {
        "id": "fa33464d",
        "outputId": "3e188464-95d2-425a-9a88-b9bc1cfda649"
      },
      "source": [
        "# 第一步调用matplotlib。pyplot是一个绘图子模块 plt就是自己命的名字\n",
        "import matplotlib.pyplot as plt\n",
        "# 创建画布 \n",
        "# figsize设置为长乘宽为20:8；分辨率为100\n",
        "plt.figure(figsize=(20,8),dpi=100)\n",
        "# 绘制折线图\n",
        "# 【1,2,3,4,5,6,7】为x轴，【12,21.。。。。】为y轴数据\n",
        "plt.plot([1,2,3,4,5,6,7],[12,21,2,14,21,12,24])\n",
        "# 显示图像\n",
        "plt.show()"
      ],
      "id": "fa33464d",
      "execution_count": null,
      "outputs": [
        {
          "data": {
            "image/png": "[encoded data removed]",
            "text/plain": [
              "<Figure size 2000x800 with 1 Axes>"
            ]
          },
          "metadata": {
            "needs_background": "light"
          },
          "output_type": "display_data"
        }
      ]
    },
    {
      "cell_type": "markdown",
      "metadata": {
        "id": "72fc94d0"
      },
      "source": [
        "## 1.2散点图"
      ],
      "id": "72fc94d0"
    },
    {
      "cell_type": "code",
      "metadata": {
        "collapsed": true,
        "scrolled": true,
        "id": "b2f1c57c",
        "colab": {
          "base_uri": "https://localhost:8080/",
          "height": 524
        },
        "outputId": "99e37331-a7a2-41b5-e6eb-cf0c1ff5a82c"
      },
      "source": [
        "import matplotlib.pyplot as plt\n",
        "# 数据的准备\n",
        "x=[23,34,45,23,45,56,24,23,57,53]\n",
        "y=[3,34,23,45,67,45,34,23,23,34]\n",
        "# 创建画布\n",
        "plt.figure(figsize=(20,8),dpi=100)\n",
        "# 绘制图像\n",
        "# 绘制散点图需要scatter\n",
        "plt.scatter(x,y)\n",
        "# 图像显示\n",
        "plt.show()"
      ],
      "id": "b2f1c57c",
      "execution_count": 10,
      "outputs": [
        {
          "output_type": "display_data",
          "data": {
            "image/png": "[encoded data removed]",
            "text/plain": [
              "<Figure size 2000x800 with 1 Axes>"
            ]
          },
          "metadata": {
            "needs_background": "light"
          }
        }
      ]
    }
  ]
}