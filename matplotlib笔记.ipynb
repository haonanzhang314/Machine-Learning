{
  "nbformat": 4,
  "nbformat_minor": 5,
  "metadata": {
    "kernelspec": {
      "display_name": "Python 3",
      "language": "python",
      "name": "python3"
    },
    "language_info": {
      "codemirror_mode": {
        "name": "ipython",
        "version": 3
      },
      "file_extension": ".py",
      "mimetype": "text/x-python",
      "name": "python",
      "nbconvert_exporter": "python",
      "pygments_lexer": "ipython3",
      "version": "3.8.8"
    },
    "colab": {
      "name": "matplotlib笔记.ipynb",
      "provenance": [],
      "collapsed_sections": [
        "40232c48",
        "33c28ca2",
        "9509e92f"
      ],
      "include_colab_link": true
    }
  },
  "cells": [
    {
      "cell_type": "markdown",
      "metadata": {
        "id": "view-in-github",
        "colab_type": "text"
      },
      "source": [
        "<a href=\"https://colab.research.google.com/github/haonanzhang314/Machine-Learning/blob/master/matplotlib%E7%AC%94%E8%AE%B0.ipynb\" target=\"_parent\"><img src=\"https://colab.research.google.com/assets/colab-badge.svg\" alt=\"Open In Colab\"/></a>"
      ]
    },
    {
      "cell_type": "markdown",
      "metadata": {
        "id": "0b56aadd"
      },
      "source": [
        "# python简单入门"
      ],
      "id": "0b56aadd"
    },
    {
      "cell_type": "markdown",
      "metadata": {
        "id": "0c9951a3"
      },
      "source": [
        "## 1.1python数字"
      ],
      "id": "0c9951a3"
    },
    {
      "cell_type": "markdown",
      "metadata": {
        "id": "ee7a2a4a"
      },
      "source": [
        "### 1.1.1python random（）函数"
      ],
      "id": "ee7a2a4a"
    },
    {
      "cell_type": "code",
      "metadata": {
        "id": "7e95afe5",
        "outputId": "3c2d3798-ffab-47c1-ad56-a438a1f62a18"
      },
      "source": [
        "# 调用randome\n",
        "import random\n",
        "# random.random()作用生成随机数字\n",
        "print(random.random())"
      ],
      "id": "7e95afe5",
      "execution_count": null,
      "outputs": [
        {
          "name": "stdout",
          "output_type": "stream",
          "text": [
            "0.7188227186741508\n"
          ]
        }
      ]
    },
    {
      "cell_type": "markdown",
      "metadata": {
        "id": "29b18116"
      },
      "source": [
        "### 1.1.2python seed()函数"
      ],
      "id": "29b18116"
    },
    {
      "cell_type": "code",
      "metadata": {
        "id": "e392f3b7",
        "outputId": "e1795c6e-e0ad-4f77-8c8a-b4131d65c170"
      },
      "source": [
        "# seed 创建一组特定的随机数数列，可以实现随机数的复现，即不同人在不同时间同一个seed，生成的随机数字完全一致\n",
        "# 调用random\n",
        "import random\n",
        "# random.seed()生成随机数字\n",
        "random.seed(1)\n",
        "print(random.random())\n",
        "random.seed(2)\n",
        "print(random.random())\n",
        "random.seed(1)\n",
        "print(random.random())"
      ],
      "id": "e392f3b7",
      "execution_count": null,
      "outputs": [
        {
          "name": "stdout",
          "output_type": "stream",
          "text": [
            "0.13436424411240122\n",
            "0.9560342718892494\n",
            "0.13436424411240122\n"
          ]
        }
      ]
    },
    {
      "cell_type": "markdown",
      "metadata": {
        "id": "d416d937"
      },
      "source": [
        "## 1.2python列表、元组、字典"
      ],
      "id": "d416d937"
    },
    {
      "cell_type": "markdown",
      "metadata": {
        "id": "d066c7ee"
      },
      "source": [
        "### 1.2.1python 列表 "
      ],
      "id": "d066c7ee"
    },
    {
      "cell_type": "code",
      "metadata": {
        "id": "5b224b33",
        "outputId": "334b0c9f-b39b-4243-b94d-af50978b5bb4"
      },
      "source": [
        "# list列表使用方括号【】将内容包裹起来\n",
        "list=[\"physics\",\"chemistry\",2019,2002]\n",
        "print(list[0])\n",
        "print(list[1:3])"
      ],
      "id": "5b224b33",
      "execution_count": null,
      "outputs": [
        {
          "name": "stdout",
          "output_type": "stream",
          "text": [
            "physics\n",
            "['chemistry', 2019]\n"
          ]
        }
      ]
    },
    {
      "cell_type": "markdown",
      "metadata": {
        "id": "d97d58d7"
      },
      "source": [
        "#### 增、删、查操作"
      ],
      "id": "d97d58d7"
    },
    {
      "cell_type": "code",
      "metadata": {
        "id": "c319d7b6",
        "outputId": "4d8a9022-4a6d-4023-dc6d-85f22265c2b5"
      },
      "source": [
        "list=[1,2,3,4,5,6]\n",
        "# 在列表末尾添加了one\n",
        "list.append(\"one\")\n",
        "print(list)"
      ],
      "id": "c319d7b6",
      "execution_count": null,
      "outputs": [
        {
          "name": "stdout",
          "output_type": "stream",
          "text": [
            "[1, 2, 3, 4, 5, 6, 'one']\n"
          ]
        }
      ]
    },
    {
      "cell_type": "code",
      "metadata": {
        "id": "f0bb75b0",
        "outputId": "bd553953-9536-4f77-8fbf-d32f9b5a22f2"
      },
      "source": [
        "list=[1,2,3,4,5,6]\n",
        "# 在列表中删除0位上的内容,如果想要删除整个列表则del list后面不给数字即可\n",
        "del list[0]  \n",
        "print(list)"
      ],
      "id": "f0bb75b0",
      "execution_count": null,
      "outputs": [
        {
          "name": "stdout",
          "output_type": "stream",
          "text": [
            "[2, 3, 4, 5, 6]\n"
          ]
        }
      ]
    },
    {
      "cell_type": "code",
      "metadata": {
        "id": "04a514d1",
        "outputId": "66a7b07f-0fcd-4c9d-c0ed-a6137c7f1d3a"
      },
      "source": [
        "list=[1,2,3,4,5,6]\n",
        "# 查询操作即打印全部内容\n",
        "print(list)"
      ],
      "id": "04a514d1",
      "execution_count": null,
      "outputs": [
        {
          "name": "stdout",
          "output_type": "stream",
          "text": [
            "[1, 2, 3, 4, 5, 6]\n"
          ]
        }
      ]
    },
    {
      "cell_type": "markdown",
      "metadata": {
        "id": "f97105ce"
      },
      "source": [
        "### 1.2.2python元组"
      ],
      "id": "f97105ce"
    },
    {
      "cell_type": "markdown",
      "metadata": {
        "id": "f93a107f"
      },
      "source": [
        "##### python元组和列表很相似区别在于元组的元素不能修改\n",
        "元组使用小括号"
      ],
      "id": "f93a107f"
    },
    {
      "cell_type": "code",
      "metadata": {
        "id": "c12a8a87",
        "outputId": "75d4d759-79d8-4ea2-8ec6-4b8d47328895"
      },
      "source": [
        "tup=(1,2,3,4,5)\n",
        "print(tup[1])\n",
        "print(tup)"
      ],
      "id": "c12a8a87",
      "execution_count": null,
      "outputs": [
        {
          "name": "stdout",
          "output_type": "stream",
          "text": [
            "2\n",
            "(1, 2, 3, 4, 5)\n"
          ]
        }
      ]
    },
    {
      "cell_type": "markdown",
      "metadata": {
        "id": "c7b708bd"
      },
      "source": [
        "### 1.2.3python字典"
      ],
      "id": "c7b708bd"
    },
    {
      "cell_type": "markdown",
      "metadata": {
        "id": "fa57657c"
      },
      "source": [
        "##### 字典是另一种可变容器模型，且可以储存任意类型对象\n",
        "字典的每个键值key=>value对用冒号：分割，每个键值对之间用逗号，分割 整个字典包含在花括号{}中，格式如下所示：\n",
        "d={key1:value1,key2:value2,key3:value3}"
      ],
      "id": "fa57657c"
    },
    {
      "cell_type": "code",
      "metadata": {
        "id": "567e4441",
        "outputId": "4cae2b2a-53ac-46cd-b808-1f9495d5f640"
      },
      "source": [
        "dict ={'a':1,'b':2,'c':3}\n",
        "print(dict)\n",
        "print(dict['a'])"
      ],
      "id": "567e4441",
      "execution_count": null,
      "outputs": [
        {
          "name": "stdout",
          "output_type": "stream",
          "text": [
            "{'a': 1, 'b': 2, 'c': 3}\n",
            "1\n"
          ]
        }
      ]
    },
    {
      "cell_type": "markdown",
      "metadata": {
        "id": "40232c48"
      },
      "source": [
        "#### 增、删、改、查操作"
      ],
      "id": "40232c48"
    },
    {
      "cell_type": "code",
      "metadata": {
        "id": "f7e8bd4e",
        "outputId": "67f51580-44a1-4f8d-f4ce-cbfaa1793356"
      },
      "source": [
        "dict={'a':1,'b':2,'c':3,'d':4}\n",
        "print(dict)\n",
        "# 增加操作\n",
        "dict['e']=5\n",
        "print(dict)"
      ],
      "id": "f7e8bd4e",
      "execution_count": null,
      "outputs": [
        {
          "name": "stdout",
          "output_type": "stream",
          "text": [
            "{'a': 1, 'b': 2, 'c': 3, 'd': 4}\n",
            "{'a': 1, 'b': 2, 'c': 3, 'd': 4, 'e': 5}\n"
          ]
        }
      ]
    },
    {
      "cell_type": "code",
      "metadata": {
        "id": "639a2a8f",
        "outputId": "09bb6958-26b6-431c-ff7d-6fe068a25181"
      },
      "source": [
        "dict={'a':1,'b':2,'c':3,'d':4}\n",
        "print(dict)\n",
        "# 删除操作,删除字典的操作为del dict\n",
        "del dict['a']\n",
        "print(dict)"
      ],
      "id": "639a2a8f",
      "execution_count": null,
      "outputs": [
        {
          "name": "stdout",
          "output_type": "stream",
          "text": [
            "{'a': 1, 'b': 2, 'c': 3, 'd': 4}\n",
            "{'b': 2, 'c': 3, 'd': 4}\n"
          ]
        }
      ]
    },
    {
      "cell_type": "code",
      "metadata": {
        "id": "adc55ae3",
        "outputId": "784b2122-6a58-4126-e140-d5fb7c9c3405"
      },
      "source": [
        "dict={'a':1,'b':2,'c':3,'d':4}\n",
        "print(dict)\n",
        "# 修改操作\n",
        "dict['a']=2\n",
        "print(dict)"
      ],
      "id": "adc55ae3",
      "execution_count": null,
      "outputs": [
        {
          "name": "stdout",
          "output_type": "stream",
          "text": [
            "{'a': 1, 'b': 2, 'c': 3, 'd': 4}\n",
            "{'a': 2, 'b': 2, 'c': 3, 'd': 4}\n"
          ]
        }
      ]
    },
    {
      "cell_type": "code",
      "metadata": {
        "id": "68e7606b",
        "outputId": "402679c0-29a6-4b15-dfb8-9395ec4e2cf4"
      },
      "source": [
        "dict={'a':1,'b':2,'c':3,'d':4}\n",
        "# 查询操作\n",
        "print(dict['a'])\n",
        "print(dict['d'])"
      ],
      "id": "68e7606b",
      "execution_count": null,
      "outputs": [
        {
          "name": "stdout",
          "output_type": "stream",
          "text": [
            "1\n",
            "4\n"
          ]
        }
      ]
    },
    {
      "cell_type": "markdown",
      "metadata": {
        "id": "9e6e7cbb"
      },
      "source": [
        "# numpy使用"
      ],
      "id": "9e6e7cbb"
    },
    {
      "cell_type": "code",
      "metadata": {
        "id": "7ce0ba0c",
        "colab": {
          "base_uri": "https://localhost:8080/"
        },
        "outputId": "a6ddd40a-d410-4d4a-ecd4-9efe675c6239"
      },
      "source": [
        "# 初始化numpy\n",
        "import numpy as np\n",
        "# array的意思是数组\n",
        "list01 = np.array([\n",
        "    [1,2,3,4,1,2],\n",
        "    [2,3,5,2,4,7],\n",
        "    [6,2,6,3,2,1]])\n",
        "list01"
      ],
      "id": "7ce0ba0c",
      "execution_count": 2,
      "outputs": [
        {
          "output_type": "execute_result",
          "data": {
            "text/plain": [
              "array([[1, 2, 3, 4, 1, 2],\n",
              "       [2, 3, 5, 2, 4, 7],\n",
              "       [6, 2, 6, 3, 2, 1]])"
            ]
          },
          "metadata": {},
          "execution_count": 2
        }
      ]
    },
    {
      "cell_type": "markdown",
      "metadata": {
        "id": "1993bede"
      },
      "source": [
        "## 1.1 np.linspace的用法"
      ],
      "id": "1993bede"
    },
    {
      "cell_type": "markdown",
      "metadata": {
        "id": "a3246222"
      },
      "source": [
        "##### numpy提供的linspace函数是python中创建数值序列的工具。"
      ],
      "id": "a3246222"
    },
    {
      "cell_type": "code",
      "metadata": {
        "id": "4eaef71c",
        "outputId": "13011a18-96cc-4230-b988-798982b3f3db"
      },
      "source": [
        "import numpy as np\n",
        "# 含义创建数列开始为0结束为100，一共创建5个数字\n",
        "np.linspace(start=0,stop=100,num=5)"
      ],
      "id": "4eaef71c",
      "execution_count": null,
      "outputs": [
        {
          "data": {
            "text/plain": [
              "array([  0.,  25.,  50.,  75., 100.])"
            ]
          },
          "execution_count": 20,
          "metadata": {},
          "output_type": "execute_result"
        }
      ]
    },
    {
      "cell_type": "code",
      "metadata": {
        "id": "26104573",
        "outputId": "391d4ad3-df48-4f1f-d14f-7b83e218a5e1"
      },
      "source": [
        "import numpy as np\n",
        "# 含义开始为-1，结束为1，创建100个数字\n",
        "x=np.linspace(-1,1,100)\n",
        "print(x)"
      ],
      "id": "26104573",
      "execution_count": null,
      "outputs": [
        {
          "name": "stdout",
          "output_type": "stream",
          "text": [
            "[-1.         -0.97979798 -0.95959596 -0.93939394 -0.91919192 -0.8989899\n",
            " -0.87878788 -0.85858586 -0.83838384 -0.81818182 -0.7979798  -0.77777778\n",
            " -0.75757576 -0.73737374 -0.71717172 -0.6969697  -0.67676768 -0.65656566\n",
            " -0.63636364 -0.61616162 -0.5959596  -0.57575758 -0.55555556 -0.53535354\n",
            " -0.51515152 -0.49494949 -0.47474747 -0.45454545 -0.43434343 -0.41414141\n",
            " -0.39393939 -0.37373737 -0.35353535 -0.33333333 -0.31313131 -0.29292929\n",
            " -0.27272727 -0.25252525 -0.23232323 -0.21212121 -0.19191919 -0.17171717\n",
            " -0.15151515 -0.13131313 -0.11111111 -0.09090909 -0.07070707 -0.05050505\n",
            " -0.03030303 -0.01010101  0.01010101  0.03030303  0.05050505  0.07070707\n",
            "  0.09090909  0.11111111  0.13131313  0.15151515  0.17171717  0.19191919\n",
            "  0.21212121  0.23232323  0.25252525  0.27272727  0.29292929  0.31313131\n",
            "  0.33333333  0.35353535  0.37373737  0.39393939  0.41414141  0.43434343\n",
            "  0.45454545  0.47474747  0.49494949  0.51515152  0.53535354  0.55555556\n",
            "  0.57575758  0.5959596   0.61616162  0.63636364  0.65656566  0.67676768\n",
            "  0.6969697   0.71717172  0.73737374  0.75757576  0.77777778  0.7979798\n",
            "  0.81818182  0.83838384  0.85858586  0.87878788  0.8989899   0.91919192\n",
            "  0.93939394  0.95959596  0.97979798  1.        ]\n"
          ]
        }
      ]
    },
    {
      "cell_type": "markdown",
      "metadata": {
        "id": "2f045ee8"
      },
      "source": [
        "## 1.2 np.reshape函数的用法"
      ],
      "id": "2f045ee8"
    },
    {
      "cell_type": "code",
      "metadata": {
        "id": "b19bb74e",
        "outputId": "9781eab2-b1fa-4f85-e02e-983b429318b8"
      },
      "source": [
        "import numpy as np\n",
        "# 含义开始为-1，结束为1，创建100个数字\n",
        "# reshape的含义为生成100行一列的矩阵\n",
        "x=np.linspace(-1,1,100).reshape(100,1)\n",
        "print(x)"
      ],
      "id": "b19bb74e",
      "execution_count": null,
      "outputs": [
        {
          "name": "stdout",
          "output_type": "stream",
          "text": [
            "[[-1.        ]\n",
            " [-0.97979798]\n",
            " [-0.95959596]\n",
            " [-0.93939394]\n",
            " [-0.91919192]\n",
            " [-0.8989899 ]\n",
            " [-0.87878788]\n",
            " [-0.85858586]\n",
            " [-0.83838384]\n",
            " [-0.81818182]\n",
            " [-0.7979798 ]\n",
            " [-0.77777778]\n",
            " [-0.75757576]\n",
            " [-0.73737374]\n",
            " [-0.71717172]\n",
            " [-0.6969697 ]\n",
            " [-0.67676768]\n",
            " [-0.65656566]\n",
            " [-0.63636364]\n",
            " [-0.61616162]\n",
            " [-0.5959596 ]\n",
            " [-0.57575758]\n",
            " [-0.55555556]\n",
            " [-0.53535354]\n",
            " [-0.51515152]\n",
            " [-0.49494949]\n",
            " [-0.47474747]\n",
            " [-0.45454545]\n",
            " [-0.43434343]\n",
            " [-0.41414141]\n",
            " [-0.39393939]\n",
            " [-0.37373737]\n",
            " [-0.35353535]\n",
            " [-0.33333333]\n",
            " [-0.31313131]\n",
            " [-0.29292929]\n",
            " [-0.27272727]\n",
            " [-0.25252525]\n",
            " [-0.23232323]\n",
            " [-0.21212121]\n",
            " [-0.19191919]\n",
            " [-0.17171717]\n",
            " [-0.15151515]\n",
            " [-0.13131313]\n",
            " [-0.11111111]\n",
            " [-0.09090909]\n",
            " [-0.07070707]\n",
            " [-0.05050505]\n",
            " [-0.03030303]\n",
            " [-0.01010101]\n",
            " [ 0.01010101]\n",
            " [ 0.03030303]\n",
            " [ 0.05050505]\n",
            " [ 0.07070707]\n",
            " [ 0.09090909]\n",
            " [ 0.11111111]\n",
            " [ 0.13131313]\n",
            " [ 0.15151515]\n",
            " [ 0.17171717]\n",
            " [ 0.19191919]\n",
            " [ 0.21212121]\n",
            " [ 0.23232323]\n",
            " [ 0.25252525]\n",
            " [ 0.27272727]\n",
            " [ 0.29292929]\n",
            " [ 0.31313131]\n",
            " [ 0.33333333]\n",
            " [ 0.35353535]\n",
            " [ 0.37373737]\n",
            " [ 0.39393939]\n",
            " [ 0.41414141]\n",
            " [ 0.43434343]\n",
            " [ 0.45454545]\n",
            " [ 0.47474747]\n",
            " [ 0.49494949]\n",
            " [ 0.51515152]\n",
            " [ 0.53535354]\n",
            " [ 0.55555556]\n",
            " [ 0.57575758]\n",
            " [ 0.5959596 ]\n",
            " [ 0.61616162]\n",
            " [ 0.63636364]\n",
            " [ 0.65656566]\n",
            " [ 0.67676768]\n",
            " [ 0.6969697 ]\n",
            " [ 0.71717172]\n",
            " [ 0.73737374]\n",
            " [ 0.75757576]\n",
            " [ 0.77777778]\n",
            " [ 0.7979798 ]\n",
            " [ 0.81818182]\n",
            " [ 0.83838384]\n",
            " [ 0.85858586]\n",
            " [ 0.87878788]\n",
            " [ 0.8989899 ]\n",
            " [ 0.91919192]\n",
            " [ 0.93939394]\n",
            " [ 0.95959596]\n",
            " [ 0.97979798]\n",
            " [ 1.        ]]\n"
          ]
        }
      ]
    },
    {
      "cell_type": "markdown",
      "metadata": {
        "id": "54edb232"
      },
      "source": [
        "## 1.3 np.power()函数的用法"
      ],
      "id": "54edb232"
    },
    {
      "cell_type": "markdown",
      "metadata": {
        "id": "068c70f3"
      },
      "source": [
        "### np.power()用于数组元素求n次方"
      ],
      "id": "068c70f3"
    },
    {
      "cell_type": "code",
      "metadata": {
        "id": "fe772387",
        "outputId": "17113848-5722-4196-8650-db3815aa4388"
      },
      "source": [
        "import numpy as np\n",
        "# 含义是2的三次方\n",
        "result = np.power(2,3)\n",
        "result"
      ],
      "id": "fe772387",
      "execution_count": null,
      "outputs": [
        {
          "data": {
            "text/plain": [
              "8"
            ]
          },
          "execution_count": 37,
          "metadata": {},
          "output_type": "execute_result"
        }
      ]
    },
    {
      "cell_type": "markdown",
      "metadata": {
        "id": "e26c87d0"
      },
      "source": [
        "## 1.4np.random.rand()"
      ],
      "id": "e26c87d0"
    },
    {
      "cell_type": "markdown",
      "metadata": {
        "id": "33c28ca2"
      },
      "source": [
        "#### rand函数根据给定维度生成[0,1)之间的数据，包含0，不包含1"
      ],
      "id": "33c28ca2"
    },
    {
      "cell_type": "code",
      "metadata": {
        "collapsed": true,
        "id": "3c8c4bf7"
      },
      "source": [
        "np.random.rand()\n",
        "\n",
        "语法：\n",
        "\n",
        "np.random.rand(d0,d1,d2……dn)\n",
        "注：使用方法与np.random.randn()函数相同\n",
        "\n",
        "作用：\n",
        "通过本函数可以返回一个或一组服从“0~1”均匀分布的随机样本值。随机样本取值范围是[0,1)，不包括1。\n",
        "\n",
        "应用：在深度学习的Dropout正则化方法中，可以用于生成dropout随机向量（dl），"
      ],
      "id": "3c8c4bf7",
      "execution_count": null,
      "outputs": []
    },
    {
      "cell_type": "code",
      "metadata": {
        "id": "456f70fe",
        "outputId": "47d8b513-9e24-4dee-bbdf-85358caebef0"
      },
      "source": [
        "import numpy as np\n",
        "np.random.rand(4,2)"
      ],
      "id": "456f70fe",
      "execution_count": null,
      "outputs": [
        {
          "data": {
            "text/plain": [
              "array([[0.40054117, 0.40907716],\n",
              "       [0.06744799, 0.95311883],\n",
              "       [0.96059821, 0.52478649],\n",
              "       [0.71106815, 0.78220723]])"
            ]
          },
          "execution_count": 43,
          "metadata": {},
          "output_type": "execute_result"
        }
      ]
    },
    {
      "cell_type": "code",
      "metadata": {
        "id": "6ebb73cf",
        "outputId": "0e4647e5-3b34-4dc3-f701-09c111be99ae"
      },
      "source": [
        "from numpy import *\n",
        "\n",
        "A = random.rand()\n",
        "print(A)  # 结果 0.9768088319111863\n",
        "B = random.rand(1)\n",
        "print(B)  # 结果 [0.91626593]\n",
        "C = random.rand(2, 2)\n",
        "print(C)  # 结果 [[0.28257911 0.18180098][0.6402906  0.93263527]]\n",
        "D = random.rand(2, 2, 2)\n",
        "print(D)  # 结果[[[0.23309825 0.16705292][0.41399771 0.11429055]][[0.15942861 0.91520886][0.1849959  0.74964994]]]"
      ],
      "id": "6ebb73cf",
      "execution_count": null,
      "outputs": [
        {
          "name": "stdout",
          "output_type": "stream",
          "text": [
            "0.02317813647840361\n",
            "[0.16074455]\n",
            "[[0.92349683 0.95354985]\n",
            " [0.21097842 0.36052525]]\n",
            "[[[0.54937526 0.27183085]\n",
            "  [0.46060162 0.69616156]]\n",
            "\n",
            " [[0.5003559  0.71607099]\n",
            "  [0.52595594 0.00139902]]]\n"
          ]
        }
      ]
    },
    {
      "cell_type": "markdown",
      "metadata": {
        "id": "361e79bc"
      },
      "source": [
        "# 1.图像功能的实现"
      ],
      "id": "361e79bc"
    },
    {
      "cell_type": "markdown",
      "metadata": {
        "id": "743dea5a"
      },
      "source": [
        "## 1.1折线图"
      ],
      "id": "743dea5a"
    },
    {
      "cell_type": "code",
      "metadata": {
        "id": "fa33464d",
        "outputId": "3e188464-95d2-425a-9a88-b9bc1cfda649"
      },
      "source": [
        "# 第一步调用matplotlib。pyplot是一个绘图子模块 plt就是自己命的名字\n",
        "import matplotlib.pyplot as plt\n",
        "# 创建画布 \n",
        "# figsize设置为长乘宽为20:8；分辨率为100\n",
        "plt.figure(figsize=(20,8),dpi=100)\n",
        "# 绘制折线图\n",
        "# 【1,2,3,4,5,6,7】为x轴，【12,21.。。。。】为y轴数据\n",
        "plt.plot([1,2,3,4,5,6,7],[12,21,2,14,21,12,24])\n",
        "# 显示图像\n",
        "plt.show()"
      ],
      "id": "fa33464d",
      "execution_count": null,
      "outputs": [
        {
          "data": {
            "image/png": "[encoded data removed]",
            "text/plain": [
              "<Figure size 2000x800 with 1 Axes>"
            ]
          },
          "metadata": {
            "needs_background": "light"
          },
          "output_type": "display_data"
        }
      ]
    },
    {
      "cell_type": "markdown",
      "metadata": {
        "id": "72fc94d0"
      },
      "source": [
        "## 1.2散点图"
      ],
      "id": "72fc94d0"
    },
    {
      "cell_type": "code",
      "metadata": {
        "collapsed": true,
        "scrolled": true,
        "id": "b2f1c57c"
      },
      "source": [
        "import matplotlib.pyplot as plt\n",
        "# 数据的准备\n",
        "x=[23,34,45,23,45,56,24,23,57,53]\n",
        "y=[3,34,23,45,67,45,34,23,23,34]\n",
        "# 创建画布\n",
        "plt.figure(figsize=(20,8),dpi=100)\n",
        "# 绘制图像\n",
        "# 绘制散点图需要scatter\n",
        "plt.scatter(x,y)\n",
        "# 图像显示\n",
        "plt.show()"
      ],
      "id": "b2f1c57c",
      "execution_count": null,
      "outputs": []
    },
    {
      "cell_type": "markdown",
      "metadata": {
        "id": "340723f6"
      },
      "source": [
        "## 作业：关于回归的机器学习任务"
      ],
      "id": "340723f6"
    },
    {
      "cell_type": "markdown",
      "metadata": {
        "id": "9509e92f"
      },
      "source": [
        "#### 给出一个数组x，基于表达式y=3x^2+2,加上一些噪音数据到达另一组数据y，然后构建一个机器学习模型，学习表达式y=wx^2+b的两个参数w、b。利用数组x，y的数据为训练数据。最后采用梯度下降法，通过多次迭代，学习到w、b的值"
      ],
      "id": "9509e92f"
    },
    {
      "cell_type": "code",
      "metadata": {
        "scrolled": true,
        "id": "f8ccc9f8",
        "outputId": "34bdbaaf-e669-48d0-ac69-99d6de8062c7"
      },
      "source": [
        "import numpy as np\n",
        "# 第一步调用matplotlib。pyplot是一个绘图子模块 plt就是自己命的名字\n",
        "import matplotlib.pyplot as plt\n",
        "# seed 创建一组特定的随机数数列，可以实现随机数的复现，即不同人在不同时间同一个seed，生成的随机数字完全一致\n",
        "np.random.seed(100)\n",
        "#np.linspace作用是生成从-1到1，数量为100. \n",
        "#np.reshap(100,1)作用是生成100行1列\n",
        "x=np.linspace(-1,1,100).reshape(100,1)\n",
        "#np.power作用为x的2次方\n",
        "y=2*np.power(x,2)+2+0.2*np.random.rand(x.size).reshape(100,1)\n",
        "# 创建画布 \n",
        "# figsize设置为长乘宽为20:8；分辨率为100\n",
        "plt.figure(figsize=(20,8),dpi=100)\n",
        "# 绘制图像\n",
        "# 绘制散点图需要scatter\n",
        "plt.scatter(x,y)\n",
        "#图像显示\n",
        "plt.show()"
      ],
      "id": "f8ccc9f8",
      "execution_count": null,
      "outputs": [
        {
          "data": {
            "image/png": "[encoded data removed]",
            "text/plain": [
              "<Figure size 2000x800 with 1 Axes>"
            ]
          },
          "metadata": {
            "needs_background": "light"
          },
          "output_type": "display_data"
        }
      ]
    },
    {
      "cell_type": "code",
      "metadata": {
        "collapsed": true,
        "scrolled": true,
        "id": "84e3b70a"
      },
      "source": [
        "import numpy as np\n",
        "# 第一步调用matplotlib。pyplot是一个绘图子模块 plt就是自己命的名字\n",
        "import matplotlib.pyplot as plt\n",
        "# seed 创建一组特定的随机数数列，可以实现随机数的复现，即不同人在不同时间同一个seed，生成的随机数字完全一致\n",
        "np.random.seed(100)\n",
        "#np.linspace作用是生成从-1到1，数量为100. \n",
        "#np.reshap(100,1)作用是生成100行1列\n",
        "x=np.linspace(-1,1,100).reshape(100,1)\n",
        "#np.power作用为x的2次方\n",
        "y=2*np.power(x,2)+2+0.2*np.random.rand(x.size).reshape(100,1)\n",
        "# 随机初始化参数,生成一维\n",
        "w1=np.random.rand(1,1)\n",
        "b1=np.random.rand(1,1)\n",
        "# 学习率\n",
        "lr =0.001 \n",
        "# 迭代800次\n",
        "for i in range(800):\n",
        "#     前向传播\n",
        "    y_pred = np.power(x,2)*w1+b1\n",
        "#     定义损失函数\n",
        "    loss=0.5*(y_pred-y)**2\n",
        "    loss = loss.sum()\n",
        "#     计算梯度\n",
        "    grad_w =np.sum((y_pred -y)*np.power(x,2))\n",
        "    grad_b =np.sum((y_pred -y))\n",
        "#     使用梯度下降法\n",
        "    w1 -=lr*grad_w\n",
        "    b1 -=lr*grad_b\n",
        "# 可视化\n",
        "plt.plot(x,y_pred,'r-',label='predict')\n",
        "plt.scatter(x,y,color='blue',marker='o',label='true')\n",
        "plt.legend()\n",
        "plt.show()\n",
        "print(w1,b1)"
      ],
      "id": "84e3b70a",
      "execution_count": null,
      "outputs": []
    },
    {
      "cell_type": "markdown",
      "metadata": {
        "id": "94602965"
      },
      "source": [
        "机器学习分为监督学习：半监督学习：无监督学习\n",
        "监督学习分为分类和回归\n",
        "分类的标签是离散的值，单个人脸，一群人，这些都是分类的问题\n",
        "回归的标签是连续的值，预测房价，预测股票等等都是回归的问题"
      ],
      "id": "94602965"
    },
    {
      "cell_type": "markdown",
      "metadata": {
        "id": "1a0d3bad"
      },
      "source": [
        "##### 没有免费午餐定理：不对特征空间的先验分布有假设，所有算法的表现都是一样"
      ],
      "id": "1a0d3bad"
    },
    {
      "cell_type": "markdown",
      "metadata": {
        "id": "09fd1704"
      },
      "source": [
        "##### 机器学习的本质是有限的已知数据到复杂的高维特征空间中预测未知的样本"
      ],
      "id": "09fd1704"
    },
    {
      "cell_type": "code",
      "metadata": {
        "collapsed": true,
        "id": "356eeaa5"
      },
      "source": [
        "机器学习算法：支持向量机"
      ],
      "id": "356eeaa5",
      "execution_count": null,
      "outputs": []
    },
    {
      "cell_type": "code",
      "metadata": {
        "collapsed": true,
        "id": "1f692be8"
      },
      "source": [
        "线性可分、线性不可分\n",
        "线性可分最简单的定义Yi（w^TXi+b）>0"
      ],
      "id": "1f692be8",
      "execution_count": null,
      "outputs": []
    },
    {
      "cell_type": "code",
      "metadata": {
        "id": "8372f74e"
      },
      "source": [
        "卷积神经网络\n",
        "卷积层就是卷积核在图片中扫描特征\n",
        "最大池化层就是在缩放图片，减小参数\n",
        "多次的卷积和池化后，再经过flatten连接一个全连接层"
      ],
      "id": "8372f74e",
      "execution_count": null,
      "outputs": []
    },
    {
      "cell_type": "code",
      "metadata": {
        "id": "1b5895c0"
      },
      "source": [
        "Keras是一个用Python编写的高级神经网络\n"
      ],
      "id": "1b5895c0",
      "execution_count": null,
      "outputs": []
    },
    {
      "cell_type": "code",
      "metadata": {
        "id": "43a449ae",
        "outputId": "97cd4660-fb2f-4123-e49a-2eaa793865c5"
      },
      "source": [
        "import torch\n",
        "from torch import nn\n",
        "from torch import optim\n",
        "import torch.nn.functional as F\n",
        "import torchvision\n",
        "import os\n",
        "\n",
        "train_batch_size = 64\n",
        "test_batch_size = 1000\n",
        "img_size = 28\n",
        "\n",
        "\n",
        "def get_dataloader(train=True):\n",
        "    assert isinstance(train, bool), \"train 必须是bool类型\"\n",
        "\n",
        "    # 准备数据集，其中0.1307，0.3081为MNIST数据的均值和标准差，这样操作能够对其进行标准化\n",
        "    # 因为MNIST只有一个通道（黑白图片）,所以元组中只有一个值\n",
        "    dataset = torchvision.datasets.MNIST('/data', train=train, download=True,\n",
        "                                         transform=torchvision.transforms.Compose([\n",
        "                                             torchvision.transforms.ToTensor(),\n",
        "                                             # torchvision.transforms.Normalize((0.1307,), (0.3081,)),\n",
        "                                         ]))\n",
        "    # 准备数据迭代器\n",
        "    batch_size = train_batch_size if train else test_batch_size\n",
        "    dataloader = torch.utils.data.DataLoader(dataset, batch_size=batch_size, shuffle=True)\n",
        "    return dataloader\n",
        "\n",
        "\n",
        "class MnistNet(nn.Module):\n",
        "    def __init__(self):\n",
        "        super(MnistNet, self).__init__()\n",
        "        self.fc1 = nn.Linear(28 * 28 * 1, 28)\n",
        "        self.fc2 = nn.Linear(28, 10)\n",
        "\n",
        "    def forward(self, x):\n",
        "        x = x.view(-1, 28 * 28 * 1)\n",
        "        x = self.fc1(x)  # [batch_size,28]\n",
        "        x = F.relu(x)  # [batch_size,28]\n",
        "        x = self.fc2(x)  # [batch_size,10]\n",
        "        # return x\n",
        "        return F.log_softmax(x, dim=-1)\n",
        "\n",
        "\n",
        "mnist_net = MnistNet()\n",
        "optimizer = optim.Adam(mnist_net.parameters(), lr=0.001)\n",
        "# criterion = nn.NLLLoss()\n",
        "# criterion = nn.CrossEntropyLoss()\n",
        "train_loss_list = []\n",
        "train_count_list = []\n",
        "\n",
        "\n",
        "def train(epoch):\n",
        "    mode = True\n",
        "    mnist_net.train(mode=mode)\n",
        "    train_dataloader = get_dataloader(train=mode)\n",
        "    print(len(train_dataloader.dataset))\n",
        "    print(len(train_dataloader))\n",
        "\n",
        "    for idx, (data, target) in enumerate(train_dataloader):\n",
        "        optimizer.zero_grad()\n",
        "        output = mnist_net(data)\n",
        "        loss = F.nll_loss(output, target)  # 对数似然损失\n",
        "        loss.backward()\n",
        "        optimizer.step()\n",
        "        if idx % 10 == 0:\n",
        "            print('Train Epoch: {} [{}/{} ({:.0f}%)]\\tLoss: {:.6f}'.format(\n",
        "                epoch, idx * len(data), len(train_dataloader.dataset),\n",
        "                       100. * idx / len(train_dataloader), loss.item()))\n",
        "\n",
        "            train_loss_list.append(loss.item())\n",
        "            train_count_list.append(idx * train_batch_size + (epoch - 1) * len(train_dataloader))\n",
        "\n",
        "\n",
        "def test():\n",
        "    test_loss = 0\n",
        "    correct = 0\n",
        "    mnist_net.eval()\n",
        "    test_dataloader = get_dataloader(train=False)\n",
        "    with torch.no_grad():\n",
        "        for data, target in test_dataloader:\n",
        "            output = mnist_net(data)\n",
        "            test_loss += F.nll_loss(output, target, reduction='sum').item()\n",
        "            pred = output.data.max(1, keepdim=True)[1]  # 获取最大值的位置,[batch_size,1]\n",
        "            correct += pred.eq(target.data.view_as(pred)).sum()\n",
        "    test_loss /= len(test_dataloader.dataset)\n",
        "    print('\\nTest set: Avg. loss: {:.4f}, Accuracy: {}/{} ({:.2f}%)\\n'.format(\n",
        "        test_loss, correct, len(test_dataloader.dataset),\n",
        "        100. * correct / len(test_dataloader.dataset)))\n",
        "\n",
        "\n",
        "if __name__ == '__main__':\n",
        "\n",
        "    test()\n",
        "    for i in range(1):  # 模型训练5轮\n",
        "        train(i)\n",
        "        test()"
      ],
      "id": "43a449ae",
      "execution_count": null,
      "outputs": [
        {
          "name": "stdout",
          "output_type": "stream",
          "text": [
            "\n",
            "Test set: Avg. loss: 2.3327, Accuracy: 709/10000 (7.09%)\n",
            "\n",
            "60000\n",
            "938\n",
            "Train Epoch: 0 [0/60000 (0%)]\tLoss: 2.334225\n",
            "Train Epoch: 0 [640/60000 (1%)]\tLoss: 2.223363\n",
            "Train Epoch: 0 [1280/60000 (2%)]\tLoss: 2.048366\n",
            "Train Epoch: 0 [1920/60000 (3%)]\tLoss: 1.770579\n",
            "Train Epoch: 0 [2560/60000 (4%)]\tLoss: 1.648058\n",
            "Train Epoch: 0 [3200/60000 (5%)]\tLoss: 1.343379\n",
            "Train Epoch: 0 [3840/60000 (6%)]\tLoss: 1.419047\n",
            "Train Epoch: 0 [4480/60000 (7%)]\tLoss: 1.069665\n",
            "Train Epoch: 0 [5120/60000 (9%)]\tLoss: 0.963389\n",
            "Train Epoch: 0 [5760/60000 (10%)]\tLoss: 0.884055\n",
            "Train Epoch: 0 [6400/60000 (11%)]\tLoss: 0.865666\n",
            "Train Epoch: 0 [7040/60000 (12%)]\tLoss: 0.707779\n",
            "Train Epoch: 0 [7680/60000 (13%)]\tLoss: 0.935655\n",
            "Train Epoch: 0 [8320/60000 (14%)]\tLoss: 0.625172\n",
            "Train Epoch: 0 [8960/60000 (15%)]\tLoss: 0.693534\n",
            "Train Epoch: 0 [9600/60000 (16%)]\tLoss: 0.614750\n",
            "Train Epoch: 0 [10240/60000 (17%)]\tLoss: 0.622136\n",
            "Train Epoch: 0 [10880/60000 (18%)]\tLoss: 0.639968\n",
            "Train Epoch: 0 [11520/60000 (19%)]\tLoss: 0.421085\n",
            "Train Epoch: 0 [12160/60000 (20%)]\tLoss: 0.429905\n",
            "Train Epoch: 0 [12800/60000 (21%)]\tLoss: 0.394193\n",
            "Train Epoch: 0 [13440/60000 (22%)]\tLoss: 0.464899\n",
            "Train Epoch: 0 [14080/60000 (23%)]\tLoss: 0.489723\n",
            "Train Epoch: 0 [14720/60000 (25%)]\tLoss: 0.535148\n",
            "Train Epoch: 0 [15360/60000 (26%)]\tLoss: 0.630243\n",
            "Train Epoch: 0 [16000/60000 (27%)]\tLoss: 0.682533\n",
            "Train Epoch: 0 [16640/60000 (28%)]\tLoss: 0.376199\n",
            "Train Epoch: 0 [17280/60000 (29%)]\tLoss: 0.370100\n",
            "Train Epoch: 0 [17920/60000 (30%)]\tLoss: 0.440939\n",
            "Train Epoch: 0 [18560/60000 (31%)]\tLoss: 0.473110\n",
            "Train Epoch: 0 [19200/60000 (32%)]\tLoss: 0.325467\n",
            "Train Epoch: 0 [19840/60000 (33%)]\tLoss: 0.416292\n",
            "Train Epoch: 0 [20480/60000 (34%)]\tLoss: 0.547198\n",
            "Train Epoch: 0 [21120/60000 (35%)]\tLoss: 0.480629\n",
            "Train Epoch: 0 [21760/60000 (36%)]\tLoss: 0.374865\n",
            "Train Epoch: 0 [22400/60000 (37%)]\tLoss: 0.465183\n",
            "Train Epoch: 0 [23040/60000 (38%)]\tLoss: 0.474359\n",
            "Train Epoch: 0 [23680/60000 (39%)]\tLoss: 0.329007\n",
            "Train Epoch: 0 [24320/60000 (41%)]\tLoss: 0.308234\n",
            "Train Epoch: 0 [24960/60000 (42%)]\tLoss: 0.427276\n",
            "Train Epoch: 0 [25600/60000 (43%)]\tLoss: 0.437495\n",
            "Train Epoch: 0 [26240/60000 (44%)]\tLoss: 0.489466\n",
            "Train Epoch: 0 [26880/60000 (45%)]\tLoss: 0.291794\n",
            "Train Epoch: 0 [27520/60000 (46%)]\tLoss: 0.321828\n",
            "Train Epoch: 0 [28160/60000 (47%)]\tLoss: 0.291153\n",
            "Train Epoch: 0 [28800/60000 (48%)]\tLoss: 0.356702\n",
            "Train Epoch: 0 [29440/60000 (49%)]\tLoss: 0.537079\n",
            "Train Epoch: 0 [30080/60000 (50%)]\tLoss: 0.481506\n",
            "Train Epoch: 0 [30720/60000 (51%)]\tLoss: 0.275584\n",
            "Train Epoch: 0 [31360/60000 (52%)]\tLoss: 0.411999\n",
            "Train Epoch: 0 [32000/60000 (53%)]\tLoss: 0.260838\n",
            "Train Epoch: 0 [32640/60000 (54%)]\tLoss: 0.404013\n",
            "Train Epoch: 0 [33280/60000 (55%)]\tLoss: 0.328946\n",
            "Train Epoch: 0 [33920/60000 (57%)]\tLoss: 0.342029\n",
            "Train Epoch: 0 [34560/60000 (58%)]\tLoss: 0.358797\n",
            "Train Epoch: 0 [35200/60000 (59%)]\tLoss: 0.263699\n",
            "Train Epoch: 0 [35840/60000 (60%)]\tLoss: 0.555794\n",
            "Train Epoch: 0 [36480/60000 (61%)]\tLoss: 0.395984\n",
            "Train Epoch: 0 [37120/60000 (62%)]\tLoss: 0.200393\n",
            "Train Epoch: 0 [37760/60000 (63%)]\tLoss: 0.243984\n",
            "Train Epoch: 0 [38400/60000 (64%)]\tLoss: 0.333390\n",
            "Train Epoch: 0 [39040/60000 (65%)]\tLoss: 0.317452\n",
            "Train Epoch: 0 [39680/60000 (66%)]\tLoss: 0.302319\n",
            "Train Epoch: 0 [40320/60000 (67%)]\tLoss: 0.273776\n",
            "Train Epoch: 0 [40960/60000 (68%)]\tLoss: 0.210484\n",
            "Train Epoch: 0 [41600/60000 (69%)]\tLoss: 0.175464\n",
            "Train Epoch: 0 [42240/60000 (70%)]\tLoss: 0.361560\n",
            "Train Epoch: 0 [42880/60000 (71%)]\tLoss: 0.216824\n",
            "Train Epoch: 0 [43520/60000 (72%)]\tLoss: 0.195340\n",
            "Train Epoch: 0 [44160/60000 (74%)]\tLoss: 0.253977\n",
            "Train Epoch: 0 [44800/60000 (75%)]\tLoss: 0.205764\n",
            "Train Epoch: 0 [45440/60000 (76%)]\tLoss: 0.239622\n",
            "Train Epoch: 0 [46080/60000 (77%)]\tLoss: 0.355562\n",
            "Train Epoch: 0 [46720/60000 (78%)]\tLoss: 0.226501\n",
            "Train Epoch: 0 [47360/60000 (79%)]\tLoss: 0.362437\n",
            "Train Epoch: 0 [48000/60000 (80%)]\tLoss: 0.213305\n",
            "Train Epoch: 0 [48640/60000 (81%)]\tLoss: 0.417092\n",
            "Train Epoch: 0 [49280/60000 (82%)]\tLoss: 0.134651\n",
            "Train Epoch: 0 [49920/60000 (83%)]\tLoss: 0.242379\n",
            "Train Epoch: 0 [50560/60000 (84%)]\tLoss: 0.164745\n",
            "Train Epoch: 0 [51200/60000 (85%)]\tLoss: 0.336018\n",
            "Train Epoch: 0 [51840/60000 (86%)]\tLoss: 0.393425\n",
            "Train Epoch: 0 [52480/60000 (87%)]\tLoss: 0.225515\n",
            "Train Epoch: 0 [53120/60000 (88%)]\tLoss: 0.173568\n",
            "Train Epoch: 0 [53760/60000 (90%)]\tLoss: 0.298720\n",
            "Train Epoch: 0 [54400/60000 (91%)]\tLoss: 0.184040\n",
            "Train Epoch: 0 [55040/60000 (92%)]\tLoss: 0.343109\n",
            "Train Epoch: 0 [55680/60000 (93%)]\tLoss: 0.103546\n",
            "Train Epoch: 0 [56320/60000 (94%)]\tLoss: 0.365791\n",
            "Train Epoch: 0 [56960/60000 (95%)]\tLoss: 0.244193\n",
            "Train Epoch: 0 [57600/60000 (96%)]\tLoss: 0.297926\n",
            "Train Epoch: 0 [58240/60000 (97%)]\tLoss: 0.261459\n",
            "Train Epoch: 0 [58880/60000 (98%)]\tLoss: 0.115767\n",
            "Train Epoch: 0 [59520/60000 (99%)]\tLoss: 0.198237\n",
            "\n",
            "Test set: Avg. loss: 0.2444, Accuracy: 9311/10000 (93.11%)\n",
            "\n"
          ]
        }
      ]
    },
    {
      "cell_type": "code",
      "metadata": {
        "id": "257f748b"
      },
      "source": [
        "手写数字的识别流程\n",
        "1、准备数据集包含训练集和测试集\n",
        "2、将数据集的图片做尺寸归一化，保持相同大小\n",
        "3、定义超参数//例如定义循环的次数。\n",
        "4、构建transforms，主要是对图像做变换\n",
        "5、下载、加载数据集MNIST\n",
        "6、构建网络模型------------重要\n",
        "7、定义训练方法\n",
        "8、定义测试方法\n",
        "9、开始训练模型，输出预测结果\n",
        "专业名词解释\n",
        "    1、参数与超参数\n",
        "    参数：模型f（x,$）中的$称为模型的参数，可以通过优化算法进行学习。\n",
        "    超参数：用来定义模型结构或优化策略。\n",
        "    2、batch_size批处理。每次处理的数据数量\n",
        "    3、epoch轮次。把一个数据集，循环运行几轮。\n",
        "    4、transforms变换。主要是将图片转换为tensor，旋转图片，以及正则化\n",
        "    5、nomalize正则化。模型出现过拟合现象时，降低模型复杂度。\n",
        "    6、卷积层。由卷积核构建，卷积核简称为卷积，也称为滤波器。卷积的大小可以在实际需要的时候自定义其长和宽（1*1,3*3，5*5）\n",
        "    7、池化层。对图片进行压缩（降采样）的一种方法，如max pooling，average pooling等\n",
        "    8、激活层。激活函数的作用就是，在所有隐藏层之间添加一个激活函数，这样的输出就是一个非线性函数了，因而神经网络的表达能力就更加强大了\n",
        "    9、损失函数。在深度学习中，损失函数反应了模型最后预测效果和实际真值之间的差距，可以用来分析训练过程的好坏、模型是否收敛等、例如均方损失、交叉熵损失\n",
        "    \n",
        "    \n",
        "    "
      ],
      "id": "257f748b",
      "execution_count": null,
      "outputs": []
    },
    {
      "cell_type": "code",
      "metadata": {
        "id": "966454d1"
      },
      "source": [
        ""
      ],
      "id": "966454d1",
      "execution_count": null,
      "outputs": []
    }
  ]
}